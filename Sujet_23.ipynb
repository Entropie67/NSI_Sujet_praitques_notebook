{
 "cells": [
  {
   "cell_type": "markdown",
   "id": "ee934531",
   "metadata": {},
   "source": [
    "\n",
    "<h1 style=\"text-align: center;\"> Sujet n°23 </h1>"
   ]
  },
  {
   "cell_type": "markdown",
   "id": "c026fa71",
   "metadata": {},
   "source": [
    "<h2>EXERCICE 1 (4 points)</h2>\n",
    "<p>L’occurrence d’un caractère dans un phrase est le nombre de fois où ce caractère est présent.</p> Exemples :\n",
    "<ul> \n",
    "    <li>l’occurrence du caractère ‘o’ dans ‘bonjour’ est 2 ;</li>\n",
    "    <li>l’occurrence du caractère ‘b’ dans ‘Bébé’ est 1 ;</li> \n",
    "    <li>l’occurrence du caractère ‘B’ dans ‘Bébé’ est 1 ; </li>\n",
    "    <li>l’occurrence du caractère ‘ ‘ dans ‘Hello world !’ est 2.\n",
    "</ul>\n",
    "<p>On cherche les occurrences des caractères dans une phrase. On souhaite stocker ces occurrences dans un dictionnaire dont les clefs seraient les caractères de la phrase et les valeurs l’occurrence de ces caractères.</p>\n",
    "<p>Par exemple : avec la phrase 'Hello world !' le dictionnaire est le suivant : </p>\n",
    "\n",
    "```Python\n",
    "{'H': 1,'e': 1,'l': 3,'o': 2,' ': 2,'w': 1,'r': 1,'d': 1,'!': 1} \n",
    "```\n",
    "<p>(l’ordre des clefs n’ayant pas d’importance). </p>\n",
    "<p>Écrire une fonction occurence_lettres avec prenant comme paramètre une variable phrase de type str. Cette fonction doit renvoyer un dictionnaire de type constitué des occurrences des caractères présents dans la phrase.</p>\n"
   ]
  },
  {
   "cell_type": "code",
   "execution_count": 13,
   "id": "ab9191b8",
   "metadata": {},
   "outputs": [
    {
     "data": {
      "text/plain": [
       "{'H': 1, 'l': 3, 'e': 1, 'r': 1, 'd': 1, 'w': 1, '!': 1, ' ': 2, 'o': 2}"
      ]
     },
     "execution_count": 13,
     "metadata": {},
     "output_type": "execute_result"
    }
   ],
   "source": [
    "def occurence_lettres(phrase: str) -> dict:\n",
    "    dico = {}\n",
    "    ensemble = set(\"Bonjour !\")\n",
    "    for lettre in ensemble:\n",
    "        occurence = phrase.count(lettre)\n",
    "        dico[lettre] = occurence\n",
    "    return dico\n",
    "#occurence_lettres(\"Hello world !\")\n",
    "\n",
    "def occurence_lettres2(phrase: str) -> dict:\n",
    "    return dict(zip(set(phrase),[phrase.count(lettre) for lettre in set(phrase)]))\n",
    "occurence_lettres2(\"Hello world !\")"
   ]
  },
  {
   "cell_type": "markdown",
   "id": "93393309",
   "metadata": {},
   "source": [
    "\n",
    "## EXERCICE 2 (4 points)\n",
    "La fonction fusion prend deux listes L1,L2 d’entiers triées par ordre croissant et les fusionne en une liste triée L12 qu’elle renvoie.\n",
    "Le code Python de la fonction est\n",
    "```Python\n",
    "def fusion(L1,L2):\n",
    "    n1 = len(L1)\n",
    "    n2 = len(L2)\n",
    "    L12 = [0]*(n1+n2)\n",
    "    i1 = 0\n",
    "    i2 = 0\n",
    "    i = 0\n",
    "    while i1 < n1 and ... :\n",
    "        if L1[i1] < L2[i2]:\n",
    "            L12[i] = ...\n",
    "            i1 = ...\n",
    "        else:\n",
    "            L12[i] = L2[i2]\n",
    "            i2 = ...\n",
    "        i += 1\n",
    "    while i1 < n1:\n",
    "    \tL12[i] = ...\n",
    "    \ti1 = i1 + 1\n",
    "    \ti = ...\n",
    "    while i2 < n2:\n",
    "    \tL12[i] = ...\n",
    "    \ti2 = i2 + 1\n",
    "    \ti = ...\n",
    "    return L12\n",
    ">>> fusion([1,6,10],[0,7,8,9])\n",
    "[0, 1, 6, 7, 8, 9, 10]\n",
    "```\n",
    "\n"
   ]
  },
  {
   "cell_type": "code",
   "execution_count": 5,
   "id": "01996801",
   "metadata": {},
   "outputs": [],
   "source": [
    "def fusion(L1,L2):\n",
    "    n1 = len(L1)\n",
    "    n2 = len(L2)\n",
    "    L12 = [0]*(n1+n2)\n",
    "    i1 = 0\n",
    "    i2 = 0\n",
    "    i = 0\n",
    "    while i1 < n1 and i2 < n2 :\n",
    "        if L1[i1] < L2[i2]:\n",
    "            L12[i] = L1[i1]\n",
    "            i1 = i1 + 1\n",
    "        else:\n",
    "            L12[i] = L2[i2]\n",
    "            i2 = i2 + 1\n",
    "        i += 1\n",
    "    while i1 < n1:\n",
    "        L12[i] = L1[i1]\n",
    "        i1 = i1 + 1\n",
    "        i = i + 1\n",
    "    while i2 < n2:\n",
    "        L12[i] = L2[i2]\n",
    "        i2 = i2 + 1\n",
    "        i = i + 1\n",
    "    return L12"
   ]
  },
  {
   "cell_type": "code",
   "execution_count": 6,
   "id": "f9445552",
   "metadata": {},
   "outputs": [
    {
     "data": {
      "text/plain": [
       "[1, 2, 4, 7, 34]"
      ]
     },
     "execution_count": 6,
     "metadata": {},
     "output_type": "execute_result"
    }
   ],
   "source": [
    "fusion([1, 4, 34],[2, 7])"
   ]
  },
  {
   "cell_type": "code",
   "execution_count": null,
   "id": "d5403023",
   "metadata": {},
   "outputs": [],
   "source": []
  }
 ],
 "metadata": {
  "kernelspec": {
   "display_name": "Python 3",
   "language": "python",
   "name": "python3"
  },
  "language_info": {
   "codemirror_mode": {
    "name": "ipython",
    "version": 3
   },
   "file_extension": ".py",
   "mimetype": "text/x-python",
   "name": "python",
   "nbconvert_exporter": "python",
   "pygments_lexer": "ipython3",
   "version": "3.8.8"
  }
 },
 "nbformat": 4,
 "nbformat_minor": 5
}
