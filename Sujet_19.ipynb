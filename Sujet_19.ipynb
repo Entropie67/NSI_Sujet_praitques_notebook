{
 "cells": [
  {
   "cell_type": "markdown",
   "id": "84a7e17c",
   "metadata": {},
   "source": [
    "# Sujet 19"
   ]
  },
  {
   "cell_type": "markdown",
   "id": "5c5596f6",
   "metadata": {},
   "source": [
    "### EXERCICE 1 (4 points) \n",
    "Écrire une fonction _recherche_ qui prend en paramètres un tableau _tab_ de nombres entiers triés par ordre croissant et un nombre entier _n_, et qui effectue une recherche dichotomique du nombre entier _n_ dans le tableau non vide _tab_.  \n",
    "Cette fonction doit renvoyer un indice correspondant au nombre cherché s’il est dans le tableau, _-1_ sinon. \n",
    "Exemples: \n",
    "```Python\n",
    ">>> recherche([2, 3, 4, 5, 6], 5) \n",
    "3 \n",
    ">>> recherche([2, 3, 4, 6, 7], 5) \n",
    "-1\n",
    "```\n"
   ]
  },
  {
   "cell_type": "code",
   "execution_count": 22,
   "id": "c6ada702",
   "metadata": {},
   "outputs": [
    {
     "name": "stdout",
     "output_type": "stream",
     "text": [
      "on cherche 5 dans [2, 3, 4, 5, 6]\n",
      " La recheche se fait dans [2, 3, 4, 5, 6]\n",
      " L'indice actuel est 2\n",
      " La recheche se fait dans [5, 6]\n",
      " L'indice actuel est 3\n",
      " La recheche se fait dans [5]\n",
      " L'indice actuel est 3\n",
      "3\n",
      "on cherche 4 dans [2, 3, 4, 5, 6, 7, 8, 9]\n",
      " La recheche se fait dans [2, 3, 4, 5, 6, 7, 8, 9]\n",
      " L'indice actuel est 4\n",
      " La recheche se fait dans [2, 3, 4, 5]\n",
      " L'indice actuel est 2\n",
      "2\n",
      "on cherche 5 dans [2, 3, 4, 6, 7]\n",
      " La recheche se fait dans [2, 3, 4, 6, 7]\n",
      " L'indice actuel est 2\n",
      " La recheche se fait dans [6, 7]\n",
      " L'indice actuel est 3\n",
      " La recheche se fait dans [6]\n",
      " L'indice actuel est 3\n"
     ]
    },
    {
     "data": {
      "text/plain": [
       "-1"
      ]
     },
     "execution_count": 22,
     "metadata": {},
     "output_type": "execute_result"
    }
   ],
   "source": [
    "def recherche(tab: list, n: int) -> int:\n",
    "    \"\"\"\n",
    "        Recherche dichotomique dans un tableau trié.\n",
    "        Version itérative.\n",
    "    \"\"\"\n",
    "    print(f\"on cherche {n} dans {tab}\")\n",
    "    indice = len(tab)//2\n",
    "    while len(tab) > 0:\n",
    "        print(f\" La recheche se fait dans {tab}\")\n",
    "        print(f\" L'indice actuel est {indice}\")\n",
    "        m = len(tab)//2\n",
    "        if tab[m] == n:\n",
    "            return indice\n",
    "        elif tab[m] > n:\n",
    "            tab = tab[:m]\n",
    "            indice -= len(tab)//2\n",
    "        else:\n",
    "            tab = tab[m + 1:]\n",
    "            indice += len(tab)//2\n",
    "    return -1\n",
    "print(recherche([2, 3, 4, 5, 6], 5) )\n",
    "print(recherche([2, 3, 4, 5, 6, 7, 8, 9], 4) )\n",
    "recherche([2, 3, 4, 6, 7], 5) \n",
    "\n",
    "#recherche([2, 3, 4, 5, 6], 2)\n",
    "        "
   ]
  },
  {
   "cell_type": "code",
   "execution_count": null,
   "id": "6adc4d5a",
   "metadata": {},
   "outputs": [],
   "source": [
    "def recherche(tab: list, n: int) -> int:\n",
    "    \"\"\"\n",
    "        Recherche dichotomique dans un tableau trié.\n",
    "        Version récursive.\n",
    "    \"\"\"\n",
    "    print(f\"on cherche {n} dans {tab}\")\n",
    "    if len(tab) < 1:\n",
    "        return -1\n",
    "    m = len(tab)//2\n",
    "    if tab[m] == n:\n",
    "        return m\n",
    "    elif tab[m] > n:\n",
    "        return recherche(tab[:m], n)\n",
    "    else:\n",
    "        return m + 1 + recherche(tab[m + 1:], n)"
   ]
  },
  {
   "cell_type": "markdown",
   "id": "48f7eafc",
   "metadata": {},
   "source": [
    "### EXERCICE 2 (4 points) \n",
    "Le codage de César transforme un message en changeant chaque lettre en la décalant dans l’alphabet.  \n",
    "Par exemple, avec un décalage de 3, le A se transforme en D, le B en E, ..., le X en A, le Y en B et le Z en C. Les autres caractères (‘!’,’ ?’…) ne sont pas codés. \n",
    "La fonction _position_alphabet_ ci-dessous prend en paramètre un caractère _lettre_ et renvoie la position de _lettre_ dans la chaîne de caractères _ALPHABET_ s’il s’y trouve et _-1_ sinon. \n",
    "La fonction _cesar_ prend en paramètre une chaîne de caractères _message_ et un nombre entier _decalage_ et renvoie le nouveau message codé avec le codage de César utilisant le décalage _decalage_. \n",
    "```Python\n",
    "ALPHABET='ABCDEFGHIJKLMNOPQRSTUVWXYZ'\n",
    "def position_alphabet(lettre):\n",
    "    return ALPHABET.find(lettre)\n",
    "\n",
    "def cesar(message, decalage):\n",
    "    resultat = '' \n",
    "    for ... in message :\n",
    "        if lettre in ALPHABET :\n",
    "            indice = ( ... )%26 \n",
    "            resultat = resultat + ALPHABET[indice]\n",
    "        else:\n",
    "            resultat = ...\n",
    "    return resultat \n",
    "\n",
    "```\n",
    "Compléter la fonction _cesar_.\n",
    "\n",
    "Exemples : \n",
    "```Python\n",
    ">>> cesar('BONJOUR A TOUS. VIVE LA MATIERE NSI !',4) 'FSRNSYV E XSYW. ZMZI PE QEXMIVI RWM !' \n",
    ">>> cesar('GTSOTZW F YTZX. ANAJ QF RFYNJWJ SXN !',-5) 'BONJOUR A TOUS. VIVE LA MATIERE NSI !' \n",
    "```"
   ]
  },
  {
   "cell_type": "code",
   "execution_count": 16,
   "id": "af57e6f6",
   "metadata": {},
   "outputs": [],
   "source": [
    "ALPHABET='ABCDEFGHIJKLMNOPQRSTUVWXYZ'\n",
    "def position_alphabet(lettre):\n",
    "    return ALPHABET.find(lettre)\n",
    "\n",
    "def cesar(message, decalage):\n",
    "    resultat = '' \n",
    "    for lettre in message :\n",
    "        if lettre in ALPHABET :\n",
    "            indice = ( position_alphabet(lettre) + decalage )%26 \n",
    "            resultat = resultat + ALPHABET[indice]\n",
    "        else:\n",
    "            resultat = resultat + lettre\n",
    "    return resultat"
   ]
  },
  {
   "cell_type": "code",
   "execution_count": 15,
   "id": "7dabbad3",
   "metadata": {},
   "outputs": [],
   "source": [
    "assert cesar('BONJOUR A TOUS. VIVE LA MATIERE NSI !',4) == 'FSRNSYV E XSYW. ZMZI PE QEXMIVI RWM !'\n",
    "assert cesar('GTSOTZW F YTZX. ANAJ QF RFYNJWJ SXN !',-5) == 'BONJOUR A TOUS. VIVE LA MATIERE NSI !'"
   ]
  },
  {
   "cell_type": "code",
   "execution_count": null,
   "id": "06c440f8",
   "metadata": {},
   "outputs": [],
   "source": []
  }
 ],
 "metadata": {
  "kernelspec": {
   "display_name": "Python 3",
   "language": "python",
   "name": "python3"
  },
  "language_info": {
   "codemirror_mode": {
    "name": "ipython",
    "version": 3
   },
   "file_extension": ".py",
   "mimetype": "text/x-python",
   "name": "python",
   "nbconvert_exporter": "python",
   "pygments_lexer": "ipython3",
   "version": "3.8.8"
  }
 },
 "nbformat": 4,
 "nbformat_minor": 5
}
