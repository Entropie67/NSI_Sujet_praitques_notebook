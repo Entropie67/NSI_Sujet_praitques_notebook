{
 "cells": [
  {
   "cell_type": "markdown",
   "id": "2c169f50",
   "metadata": {},
   "source": [
    "<h1 style=\"text-align: center;\">Sujet n°13</h1>"
   ]
  },
  {
   "cell_type": "markdown",
   "id": "bda70cc1",
   "metadata": {},
   "source": [
    "<h2>EXERCICE 1 (4 points)</h2>\n",
    "<p>Écrire une fonction tri_selection qui prend en paramètre une liste tab de nombres entiers et qui renvoie le tableau trié par ordre croissant.\n",
    "On utilisera l’algorithme suivant :</p>\n",
    "<ul>\n",
    "<li>on recherche le plus petit élément du tableau, et on l'échange avec l'élément d'indice 0 ;\n",
    "</li><li>on recherche le second plus petit élément du tableau, et on l'échange avec l'élément d'indice 1 ;</li>\n",
    "    <li>on continue de cette façon jusqu'à ce que le tableau soit entièrement trié.</li>\n",
    "</ul>\n",
    "   <h3> Exemple :</h3>\n",
    "   \n",
    "```Python\n",
    ">>> tri_selection([1,52,6,-9,12])\n",
    "[-9, 1, 6, 12, 52]\n",
    "```"
   ]
  },
  {
   "cell_type": "code",
   "execution_count": 3,
   "id": "7f390b0d",
   "metadata": {},
   "outputs": [
    {
     "data": {
      "text/plain": [
       "[-9, 1, 6, 12, 52]"
      ]
     },
     "execution_count": 3,
     "metadata": {},
     "output_type": "execute_result"
    }
   ],
   "source": [
    "#[1,52,6,-9,12]\n",
    "def tri_selection(tab: list) -> list:\n",
    "    n = len(tab)\n",
    "    for i in range(n - 1):\n",
    "        min = i\n",
    "        for j in range(i + 1, n):\n",
    "            if tab[j] < tab[min]:\n",
    "                min = j\n",
    "        tab[i], tab[min] = tab[min], tab[i]\n",
    "    return tab\n",
    "\n",
    "tri_selection([1,52,6,-9,12])      \n",
    "            "
   ]
  },
  {
   "cell_type": "markdown",
   "id": "d8a96552",
   "metadata": {},
   "source": [
    "\n",
    "<h2>EXERCICE 2 (4 points)</h2>\n",
    "Le jeu du « plus ou moins » consiste à deviner un nombre entier choisi entre 1 et 99.\n",
    "Un élève de NSI décide de le coder en langage Python de la manière suivante :\n",
    "<ul>\n",
    "<li> le programme génère un nombre entier aléatoire compris entre 1 et 99 ;</li>\n",
    "<li> si la proposition de l’utilisateur est plus petite que le nombre cherché, l’utilisateur en est averti. Il peut alors en tester un autre ;</li>\n",
    "<li> si la proposition de l’utilisateur est plus grande que le nombre cherché, l’utilisateur en est averti. Il peut alors en tester un autre ;</li>\n",
    "<li> si l’utilisateur trouve le bon nombre en 10 essais ou moins, il gagne ;</li>\n",
    "<li> si l’utilisateur a fait plus de 10 essais sans trouver le bon nombre, il perd.</li>\n",
    "</ul>\n",
    "La fonction randint est utilisée. Si a et b sont des entiers, randint(a,b) renvoie un nombre entier compris entre a et b.\n",
    "Compléter le code ci-dessous et le tester :\n",
    "\n",
    "```Python\n",
    "from random import randint\n",
    "\n",
    "def plus_ou_moins():\n",
    "    nb_mystere = randint(1,...)\n",
    "    nb_test = int(input(\"Proposez un nombre entre 1 et 99 : \"))\n",
    "    compteur = ...\n",
    "\n",
    "    while nb_mystere != ... and compteur < ... :\n",
    "        compteur = compteur + ...\n",
    "        if nb_mystere ... nb_test:\n",
    "            nb_test = int(input(\"Trop petit ! Testez encore : \"))\n",
    "        else:\n",
    "            nb_test = int(input(\"Trop grand ! Testez encore : \"))\n",
    "\n",
    "    if nb_mystere == nb_test:\n",
    "        print (\"Bravo ! Le nombre était \",...)\n",
    "        print(\"Nombre d'essais: \",...)\n",
    "    else:\n",
    "        print (\"Perdu ! Le nombre était \",...)\n",
    "\n",
    "```\n"
   ]
  },
  {
   "cell_type": "code",
   "execution_count": 1,
   "id": "94f8fa42",
   "metadata": {},
   "outputs": [],
   "source": [
    "from random import randint\n",
    "\n",
    "def plus_ou_moins():\n",
    "    nb_mystere = randint(1, 99)\n",
    "    nb_test = int(input(\"Proposez un nombre entre 1 et 99 : \"))\n",
    "    compteur = 0\n",
    "\n",
    "    while nb_mystere != nb_test and compteur < 10 :\n",
    "        print(nb_mystere)\n",
    "        compteur = compteur + 1\n",
    "        if nb_mystere > nb_test:\n",
    "            nb_test = int(input(\"Trop petit ! Testez encore : \"))\n",
    "        else:\n",
    "            nb_test = int(input(\"Trop grand ! Testez encore : \"))\n",
    "\n",
    "    if nb_mystere == nb_test:\n",
    "        print (\"Bravo ! Le nombre était \", nb_test)\n",
    "        print(\"Nombre d'essais: \", compteur + 1)\n",
    "    else:\n",
    "        print (\"Perdu ! Le nombre était \", nb_mystere)\n"
   ]
  },
  {
   "cell_type": "code",
   "execution_count": 2,
   "id": "640b87c0",
   "metadata": {},
   "outputs": [
    {
     "name": "stdout",
     "output_type": "stream",
     "text": [
      "Proposez un nombre entre 1 et 99 : 50\n",
      "57\n",
      "Trop petit ! Testez encore : 75\n",
      "57\n",
      "Trop grand ! Testez encore : 55\n",
      "57\n",
      "Trop petit ! Testez encore : 57\n",
      "Bravo ! Le nombre était  57\n",
      "Nombre d'essais:  4\n"
     ]
    }
   ],
   "source": [
    "plus_ou_moins()"
   ]
  },
  {
   "cell_type": "code",
   "execution_count": null,
   "id": "ea8dde65",
   "metadata": {},
   "outputs": [],
   "source": []
  }
 ],
 "metadata": {
  "kernelspec": {
   "display_name": "Python 3",
   "language": "python",
   "name": "python3"
  },
  "language_info": {
   "codemirror_mode": {
    "name": "ipython",
    "version": 3
   },
   "file_extension": ".py",
   "mimetype": "text/x-python",
   "name": "python",
   "nbconvert_exporter": "python",
   "pygments_lexer": "ipython3",
   "version": "3.8.8"
  }
 },
 "nbformat": 4,
 "nbformat_minor": 5
}
